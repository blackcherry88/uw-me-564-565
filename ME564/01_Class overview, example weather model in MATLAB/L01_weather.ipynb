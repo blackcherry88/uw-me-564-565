{
 "cells": [
  {
   "cell_type": "code",
   "execution_count": 17,
   "metadata": {},
   "outputs": [],
   "source": [
    "import numpy as np\n",
    "from matplotlib import pyplot as plt"
   ]
  },
  {
   "cell_type": "code",
   "execution_count": 18,
   "metadata": {},
   "outputs": [
    {
     "name": "stdout",
     "output_type": "stream",
     "text": [
      "[[0.5  0.5  0.25]\n",
      " [0.25 0.   0.25]\n",
      " [0.25 0.5  0.5 ]]\n"
     ]
    }
   ],
   "source": [
    "A = np.array([[0.5, 0.5, 0.25], [0.25, 0, 0.25], [0.25, 0.5, 0.5]])\n",
    "print(A)"
   ]
  },
  {
   "cell_type": "code",
   "execution_count": 19,
   "metadata": {},
   "outputs": [
    {
     "name": "stdout",
     "output_type": "stream",
     "text": [
      "[1, 0, 0]\n",
      "[[1]\n",
      " [0]\n",
      " [0]]\n"
     ]
    }
   ],
   "source": [
    "xtoday = [1, 0, 0]\n",
    "print(xtoday)\n",
    "xtoday_col = np.array([[1],[0],[0]])\n",
    "print(xtoday_col)"
   ]
  },
  {
   "cell_type": "code",
   "execution_count": 20,
   "metadata": {},
   "outputs": [
    {
     "name": "stdout",
     "output_type": "stream",
     "text": [
      "[0.5  0.25 0.25]\n",
      "[[0.5 ]\n",
      " [0.25]\n",
      " [0.25]]\n"
     ]
    }
   ],
   "source": [
    "# Matrix-vector multiplication\n",
    "print(A @ xtoday)\n",
    "print(A @ xtoday_col)"
   ]
  },
  {
   "cell_type": "code",
   "execution_count": 21,
   "metadata": {},
   "outputs": [
    {
     "name": "stdout",
     "output_type": "stream",
     "text": [
      "0\n",
      "[0.5  0.25 0.25]\n",
      "1\n",
      "[0.4375 0.1875 0.375 ]\n",
      "2\n",
      "[0.40625  0.203125 0.390625]\n",
      "3\n",
      "[0.40234375 0.19921875 0.3984375 ]\n",
      "4\n",
      "[0.40039062 0.20019531 0.39941406]\n",
      "5\n",
      "[0.40014648 0.19995117 0.39990234]\n",
      "6\n",
      "[0.40002441 0.20001221 0.39996338]\n",
      "7\n",
      "[0.40000916 0.19999695 0.3999939 ]\n",
      "8\n",
      "[0.40000153 0.20000076 0.39999771]\n",
      "9\n",
      "[0.40000057 0.19999981 0.39999962]\n",
      "10\n",
      "[0.4000001  0.20000005 0.39999986]\n",
      "11\n",
      "[0.40000004 0.19999999 0.39999998]\n",
      "12\n",
      "[0.40000001 0.2        0.39999999]\n",
      "13\n",
      "[0.4 0.2 0.4]\n",
      "14\n",
      "[0.4 0.2 0.4]\n",
      "15\n",
      "[0.4 0.2 0.4]\n",
      "16\n",
      "[0.4 0.2 0.4]\n",
      "17\n",
      "[0.4 0.2 0.4]\n",
      "18\n",
      "[0.4 0.2 0.4]\n",
      "19\n",
      "[0.4 0.2 0.4]\n",
      "20\n",
      "[0.4 0.2 0.4]\n",
      "21\n",
      "[0.4 0.2 0.4]\n",
      "22\n",
      "[0.4 0.2 0.4]\n",
      "23\n",
      "[0.4 0.2 0.4]\n",
      "24\n",
      "[0.4 0.2 0.4]\n",
      "25\n",
      "[0.4 0.2 0.4]\n",
      "26\n",
      "[0.4 0.2 0.4]\n",
      "27\n",
      "[0.4 0.2 0.4]\n",
      "28\n",
      "[0.4 0.2 0.4]\n",
      "29\n",
      "[0.4 0.2 0.4]\n",
      "30\n",
      "[0.4 0.2 0.4]\n",
      "31\n",
      "[0.4 0.2 0.4]\n",
      "32\n",
      "[0.4 0.2 0.4]\n",
      "33\n",
      "[0.4 0.2 0.4]\n",
      "34\n",
      "[0.4 0.2 0.4]\n",
      "35\n",
      "[0.4 0.2 0.4]\n",
      "36\n",
      "[0.4 0.2 0.4]\n",
      "37\n",
      "[0.4 0.2 0.4]\n",
      "38\n",
      "[0.4 0.2 0.4]\n",
      "39\n",
      "[0.4 0.2 0.4]\n",
      "40\n",
      "[0.4 0.2 0.4]\n",
      "41\n",
      "[0.4 0.2 0.4]\n",
      "42\n",
      "[0.4 0.2 0.4]\n",
      "43\n",
      "[0.4 0.2 0.4]\n",
      "44\n",
      "[0.4 0.2 0.4]\n",
      "45\n",
      "[0.4 0.2 0.4]\n",
      "46\n",
      "[0.4 0.2 0.4]\n",
      "47\n",
      "[0.4 0.2 0.4]\n",
      "48\n",
      "[0.4 0.2 0.4]\n",
      "49\n",
      "[0.4 0.2 0.4]\n"
     ]
    }
   ],
   "source": [
    "the_weather = np.zeros((51, 3))\n",
    "the_weather[0, :] = xtoday\n",
    "for i in range(50):\n",
    "    xtomorrow = A @ xtoday  # xtomorrow is linear combination of xtoday\n",
    "    xtoday = xtomorrow\n",
    "    the_weather[i+1, :] = xtomorrow\n",
    "    print(i)\n",
    "    print(xtomorrow)"
   ]
  },
  {
   "cell_type": "code",
   "execution_count": 22,
   "metadata": {},
   "outputs": [
    {
     "data": {
      "image/png": "[encoded data removed]",
      "text/plain": [
       "<Figure size 640x480 with 1 Axes>"
      ]
     },
     "metadata": {},
     "output_type": "display_data"
    }
   ],
   "source": [
    "plt.plot(the_weather)\n",
    "plt.grid(True) "
   ]
  },
  {
   "cell_type": "code",
   "execution_count": null,
   "metadata": {},
   "outputs": [],
   "source": []
  }
 ],
 "metadata": {
  "kernelspec": {
   "display_name": "Python 3.8.5 64-bit",
   "language": "python",
   "name": "python3"
  },
  "language_info": {
   "codemirror_mode": {
    "name": "ipython",
    "version": 3
   },
   "file_extension": ".py",
   "mimetype": "text/x-python",
   "name": "python",
   "nbconvert_exporter": "python",
   "pygments_lexer": "ipython3",
   "version": "3.8.5"
  },
  "vscode": {
   "interpreter": {
    "hash": "aee8b7b246df8f9039afb4144a1f6fd8d2ca17a180786b69acc140d282b71a49"
   }
  }
 },
 "nbformat": 4,
 "nbformat_minor": 4
}
